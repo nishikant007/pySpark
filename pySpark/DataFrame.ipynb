{
 "cells": [
  {
   "cell_type": "code",
   "execution_count": 1,
   "id": "f1f60d8b",
   "metadata": {},
   "outputs": [
    {
     "data": {
      "text/plain": [
       "'/home/nishi/.local/lib/python3.10/site-packages/pyspark'"
      ]
     },
     "execution_count": 1,
     "metadata": {},
     "output_type": "execute_result"
    }
   ],
   "source": [
    "import findspark\n",
    "findspark.init()\n",
    "findspark.find()"
   ]
  },
  {
   "cell_type": "code",
   "execution_count": 2,
   "id": "5105bfcf",
   "metadata": {},
   "outputs": [
    {
     "name": "stderr",
     "output_type": "stream",
     "text": [
      "23/08/13 21:07:57 WARN Utils: Your hostname, nishi-ubuntu resolves to a loopback address: 127.0.1.1; using 192.168.1.40 instead (on interface enp0s31f6)\n",
      "23/08/13 21:07:57 WARN Utils: Set SPARK_LOCAL_IP if you need to bind to another address\n",
      "Setting default log level to \"WARN\".\n",
      "To adjust logging level use sc.setLogLevel(newLevel). For SparkR, use setLogLevel(newLevel).\n",
      "23/08/13 21:07:59 WARN NativeCodeLoader: Unable to load native-hadoop library for your platform... using builtin-java classes where applicable\n"
     ]
    },
    {
     "data": {
      "text/html": [
       "\n",
       "            <div>\n",
       "                <p><b>SparkSession - in-memory</b></p>\n",
       "                \n",
       "        <div>\n",
       "            <p><b>SparkContext</b></p>\n",
       "\n",
       "            <p><a href=\"http://nishi-ubuntu.bbrouter:4040\">Spark UI</a></p>\n",
       "\n",
       "            <dl>\n",
       "              <dt>Version</dt>\n",
       "                <dd><code>v3.4.1</code></dd>\n",
       "              <dt>Master</dt>\n",
       "                <dd><code>local[4]</code></dd>\n",
       "              <dt>AppName</dt>\n",
       "                <dd><code>TaxiOperationDataFrameApp</code></dd>\n",
       "            </dl>\n",
       "        </div>\n",
       "        \n",
       "            </div>\n",
       "        "
      ],
      "text/plain": [
       "<pyspark.sql.session.SparkSession at 0x7f14a3749a50>"
      ]
     },
     "execution_count": 2,
     "metadata": {},
     "output_type": "execute_result"
    }
   ],
   "source": [
    "from pyspark.sql import SparkSession\n",
    "from pyspark.sql.types import *\n",
    "from pyspark.sql.functions import *\n",
    "\n",
    "spark = ( \n",
    "    SparkSession.builder.appName(\"TaxiOperationDataFrameApp\")\n",
    "    .master(\"local[4]\")\n",
    "    .config(\"spark.dynamicAllocation.enabled\", \"false\")\n",
    "    .config(\"spark.sql.adaptive.enabled\", \"false\")\n",
    "    .getOrCreate()\n",
    "    )\n",
    "sc = spark.sparkContext\n",
    "spark"
   ]
  },
  {
   "cell_type": "code",
   "execution_count": 3,
   "id": "619d1bc6",
   "metadata": {},
   "outputs": [
    {
     "data": {
      "text/html": [
       "<style>pre {white-space: pre !important; }</style>"
      ],
      "text/plain": [
       "<IPython.core.display.HTML object>"
      ]
     },
     "metadata": {},
     "output_type": "display_data"
    }
   ],
   "source": [
    "from IPython.display import *\n",
    "display(HTML(\"<style>pre {white-space: pre !important; }</style>\"))"
   ]
  },
  {
   "cell_type": "code",
   "execution_count": 11,
   "id": "f4455afa",
   "metadata": {},
   "outputs": [],
   "source": [
    "# Create RDD with Complex Type\n",
    "data = [\n",
    "    [1, \"Neha\", 10000],\n",
    "    [2, \"Steve\", 20000],\n",
    "    [3, \"Kari\", 30000],\n",
    "    [4, \"Ivan\", 40000],\n",
    "    [5, \"Mohit\", 50000],\n",
    "]\n",
    "employeeRDD = sc.parallelize(data)"
   ]
  },
  {
   "cell_type": "code",
   "execution_count": 12,
   "id": "35fde543",
   "metadata": {},
   "outputs": [
    {
     "name": "stdout",
     "output_type": "stream",
     "text": [
      "+---+-----+-----+\n",
      "| _1|   _2|   _3|\n",
      "+---+-----+-----+\n",
      "|  1| Neha|10000|\n",
      "|  2|Steve|20000|\n",
      "|  3| Kari|30000|\n",
      "|  4| Ivan|40000|\n",
      "|  5|Mohit|50000|\n",
      "+---+-----+-----+\n",
      "\n"
     ]
    }
   ],
   "source": [
    "# Create DataFrame from RDD\n",
    "employeesDF = employeeRDD.toDF()\n",
    "employeesDF.show()"
   ]
  },
  {
   "cell_type": "code",
   "execution_count": 13,
   "id": "bd5d560b",
   "metadata": {},
   "outputs": [
    {
     "name": "stdout",
     "output_type": "stream",
     "text": [
      "+---+-----+------+\n",
      "| Id| Name|Salary|\n",
      "+---+-----+------+\n",
      "|  1| Neha| 10000|\n",
      "|  2|Steve| 20000|\n",
      "|  3| Kari| 30000|\n",
      "|  4| Ivan| 40000|\n",
      "|  5|Mohit| 50000|\n",
      "+---+-----+------+\n",
      "\n"
     ]
    }
   ],
   "source": [
    "# Define Column name to data frame\n",
    "employeesDF = employeesDF.toDF(\"Id\", \"Name\", \"Salary\")\n",
    "employeesDF.show()"
   ]
  },
  {
   "cell_type": "code",
   "execution_count": 14,
   "id": "f054299f",
   "metadata": {},
   "outputs": [
    {
     "name": "stdout",
     "output_type": "stream",
     "text": [
      "root\n",
      " |-- Id: long (nullable = true)\n",
      " |-- Name: string (nullable = true)\n",
      " |-- Salary: long (nullable = true)\n",
      "\n"
     ]
    }
   ],
   "source": [
    "# Print Data frame Schema\n",
    "employeesDF.printSchema()"
   ]
  },
  {
   "cell_type": "code",
   "execution_count": 17,
   "id": "9afbbce1",
   "metadata": {},
   "outputs": [],
   "source": [
    "#Read Yellowtaxis csv file to create DataFrame\n",
    "yellowTaxiDF = (spark.read.option(\"header\", \"true\").csv(\"/home/nishi/PycharmProjects/pythonProject/pySpark/DataFiles/YellowTaxis_202210.csv\"))"
   ]
  },
  {
   "cell_type": "code",
   "execution_count": 18,
   "id": "3bcd0b7c",
   "metadata": {},
   "outputs": [
    {
     "name": "stdout",
     "output_type": "stream",
     "text": [
      "+--------+--------------------+---------------------+---------------+-------------+----------+------------------+------------+------------+------------+-----------+-----+-------+----------+------------+---------------------+------------+--------------------+-----------+\n",
      "|VendorID|tpep_pickup_datetime|tpep_dropoff_datetime|passenger_count|trip_distance|RatecodeID|store_and_fwd_flag|PULocationID|DOLocationID|payment_type|fare_amount|extra|mta_tax|tip_amount|tolls_amount|improvement_surcharge|total_amount|congestion_surcharge|airport_fee|\n",
      "+--------+--------------------+---------------------+---------------+-------------+----------+------------------+------------+------------+------------+-----------+-----+-------+----------+------------+---------------------+------------+--------------------+-----------+\n",
      "|       1|2022-10-01T05:33:...| 2022-10-01T05:48:...|            1.0|          1.7|       1.0|                 N|         249|         107|           1|        9.5|  3.0|    0.5|      2.65|         0.0|                  0.3|       15.95|                 2.5|        0.0|\n",
      "|       2|2022-10-01T05:44:...| 2022-10-01T05:49:...|            2.0|         0.72|       1.0|                 N|         151|         238|           2|        5.5|  0.5|    0.5|       0.0|         0.0|                  0.3|         9.3|                 2.5|        0.0|\n",
      "|       2|2022-10-01T05:57:...| 2022-10-01T06:07:...|            1.0|         1.74|       1.0|                 N|         238|         166|           1|        9.0|  0.5|    0.5|      2.06|         0.0|                  0.3|       12.36|                 0.0|        0.0|\n",
      "|       1|2022-10-01T06:02:...| 2022-10-01T06:08:...|            0.0|          1.3|       1.0|                 N|         142|         239|           1|        6.5|  3.0|    0.5|      2.05|         0.0|                  0.3|       12.35|                 2.5|        0.0|\n",
      "|       1|2022-10-01T06:14:...| 2022-10-01T06:20:...|            0.0|          1.0|       1.0|                 N|         238|         166|           1|        6.0|  0.5|    0.5|       1.8|         0.0|                  0.3|         9.1|                 0.0|        0.0|\n",
      "|       1|2022-10-01T05:52:...| 2022-10-01T06:22:...|            1.0|          6.8|       1.0|                 Y|         186|          41|           2|       25.5|  3.0|    0.5|       0.0|         0.0|                  0.3|        29.3|                 2.5|        0.0|\n",
      "|       2|2022-10-01T06:03:...| 2022-10-01T06:14:...|            3.0|         1.88|       1.0|                 N|         162|         145|           2|       10.5|  0.5|    0.5|       0.0|         0.0|                  0.3|        14.3|                 2.5|        0.0|\n",
      "|       1|2022-10-01T05:32:...| 2022-10-01T06:20:...|            1.0|         12.2|       1.0|                 N|         100|          22|           1|       41.0|  3.0|    0.5|       3.0|         0.0|                  0.3|        47.8|                 2.5|        0.0|\n",
      "|       2|2022-10-01T05:36:...| 2022-10-01T05:54:...|            1.0|         7.79|       1.0|                 N|         138|         112|           1|       23.5|  0.5|    0.5|      4.96|         0.0|                  0.3|       31.01|                 0.0|       1.25|\n",
      "|       2|2022-10-01T05:59:...| 2022-10-01T06:13:...|            1.0|         4.72|       1.0|                 N|         145|          75|           1|       14.5|  0.5|    0.5|       1.5|         0.0|                  0.3|        19.8|                 2.5|        0.0|\n",
      "|       1|2022-10-01T05:31:...| 2022-10-01T05:50:...|            1.0|          8.8|       1.0|                 N|         138|         236|           1|       26.0| 4.25|    0.5|      5.64|        6.55|                  0.3|       43.24|                 2.5|       1.25|\n",
      "|       1|2022-10-01T05:57:...| 2022-10-01T06:29:...|            1.0|          8.6|       1.0|                 N|         140|          36|           1|       29.5|  3.0|    0.5|       6.0|         0.0|                  0.3|        39.3|                 2.5|        0.0|\n",
      "|       1|2022-10-01T05:35:...| 2022-10-01T06:05:...|            4.0|         12.0|       1.0|                 N|          70|         230|           2|       36.5|  3.0|    0.5|       0.0|        6.55|                  0.3|       46.85|                 2.5|        0.0|\n",
      "|       1|2022-10-01T06:08:...| 2022-10-01T06:18:...|            2.0|          1.4|       1.0|                 N|         230|          68|           1|        8.5|  3.0|    0.5|      3.05|         0.0|                  0.3|       15.35|                 2.5|        0.0|\n",
      "|       2|2022-10-01T05:54:...| 2022-10-01T06:00:...|            1.0|         0.76|       1.0|                 N|          79|         113|           1|        5.5|  0.5|    0.5|      0.93|         0.0|                  0.3|       10.23|                 2.5|        0.0|\n",
      "|       2|2022-10-01T06:02:...| 2022-10-01T06:28:...|            1.0|          7.8|       1.0|                 N|         113|         116|           1|       26.5|  0.5|    0.5|      6.06|         0.0|                  0.3|       36.36|                 2.5|        0.0|\n",
      "|       2|2022-10-01T05:47:...| 2022-10-01T06:00:...|            2.0|          2.9|       1.0|                 N|          13|         249|           1|       12.0|  0.5|    0.5|       2.8|         0.0|                  0.3|        18.6|                 2.5|        0.0|\n",
      "|       2|2022-10-01T06:02:...| 2022-10-01T06:14:...|            1.0|         1.71|       1.0|                 N|         249|          79|           1|        9.0|  0.5|    0.5|      2.56|         0.0|                  0.3|       15.36|                 2.5|        0.0|\n",
      "|       2|2022-10-01T05:39:...| 2022-10-01T05:51:...|            1.0|          2.3|       1.0|                 N|          48|         249|           1|       10.0|  0.5|    0.5|      2.76|         0.0|                  0.3|       16.56|                 2.5|        0.0|\n",
      "|       2|2022-10-01T05:52:...| 2022-10-01T06:03:...|            2.0|         1.67|       1.0|                 N|         249|         224|           1|        8.5|  0.5|    0.5|      2.46|         0.0|                  0.3|       14.76|                 2.5|        0.0|\n",
      "+--------+--------------------+---------------------+---------------+-------------+----------+------------------+------------+------------+------------+-----------+-----+-------+----------+------------+---------------------+------------+--------------------+-----------+\n",
      "only showing top 20 rows\n",
      "\n"
     ]
    }
   ],
   "source": [
    "# Show the Data\n",
    "yellowTaxiDF.show()"
   ]
  },
  {
   "cell_type": "code",
   "execution_count": 20,
   "id": "c68e547f",
   "metadata": {},
   "outputs": [
    {
     "name": "stdout",
     "output_type": "stream",
     "text": [
      "root\n",
      " |-- VendorID: string (nullable = true)\n",
      " |-- tpep_pickup_datetime: string (nullable = true)\n",
      " |-- tpep_dropoff_datetime: string (nullable = true)\n",
      " |-- passenger_count: string (nullable = true)\n",
      " |-- trip_distance: string (nullable = true)\n",
      " |-- RatecodeID: string (nullable = true)\n",
      " |-- store_and_fwd_flag: string (nullable = true)\n",
      " |-- PULocationID: string (nullable = true)\n",
      " |-- DOLocationID: string (nullable = true)\n",
      " |-- payment_type: string (nullable = true)\n",
      " |-- fare_amount: string (nullable = true)\n",
      " |-- extra: string (nullable = true)\n",
      " |-- mta_tax: string (nullable = true)\n",
      " |-- tip_amount: string (nullable = true)\n",
      " |-- tolls_amount: string (nullable = true)\n",
      " |-- improvement_surcharge: string (nullable = true)\n",
      " |-- total_amount: string (nullable = true)\n",
      " |-- congestion_surcharge: string (nullable = true)\n",
      " |-- airport_fee: string (nullable = true)\n",
      "\n"
     ]
    }
   ],
   "source": [
    "# Print Schema\n",
    "yellowTaxiDF.printSchema()"
   ]
  },
  {
   "cell_type": "code",
   "execution_count": 21,
   "id": "d052aa9c",
   "metadata": {},
   "outputs": [
    {
     "name": "stdout",
     "output_type": "stream",
     "text": [
      "+--------+--------------------+---------------------+---------------+-------------+----------+------------------+------------+------------+------------+-----------+-----+-------+----------+------------+---------------------+------------+--------------------+-----------+\n",
      "|VendorId|lpep_pickup_datetime|lpep_dropoff_datetime|passenger_count|trip_distance|RatecodeID|store_and_fwd_flag|PULocationID|DOLocationID|payment_type|fare_amount|extra|mta_tax|tip_amount|tolls_amount|improvement_surcharge|total_amount|congestion_surcharge|airport_fee|\n",
      "+--------+--------------------+---------------------+---------------+-------------+----------+------------------+------------+------------+------------+-----------+-----+-------+----------+------------+---------------------+------------+--------------------+-----------+\n",
      "|       2|2022-10-01T06:08:...| 2022-10-01T06:21:...|            1.0|         2.47|       1.0|                 N|         256|         225|         1.0|       11.5|  0.5|    0.5|      2.56|         0.0|                  0.3|       15.36|                 0.0|        0.0|\n",
      "|       2|2022-10-01T06:36:...| 2022-10-01T06:42:...|            1.0|         1.96|       1.0|                 N|         166|         152|         1.0|        7.5|  0.5|    0.5|       2.2|         0.0|                  0.3|        11.0|                 0.0|        0.0|\n",
      "|       2|2022-10-01T06:01:...| 2022-10-01T06:15:...|            1.0|         2.43|       1.0|                 N|          74|         262|         1.0|       11.5|  0.5|    0.5|       2.0|         0.0|                  0.3|       17.55|                2.75|        0.0|\n",
      "|       2|2022-10-01T06:21:...| 2022-10-01T06:28:...|            1.0|         2.25|       1.0|                 N|          74|          42|         1.0|        8.5|  0.5|    0.5|      1.96|         0.0|                  0.3|       11.76|                 0.0|        0.0|\n",
      "|       1|2022-10-01T06:12:...| 2022-10-01T06:24:...|            1.0|          0.0|       1.0|                 N|          74|         247|         1.0|       17.2|  0.0|    0.5|       0.0|         0.0|                  0.3|        18.0|                 0.0|        0.0|\n",
      "|       2|2022-10-01T05:55:...| 2022-10-01T06:05:...|            2.0|          4.5|       1.0|                 N|         134|          57|         2.0|       14.0|  0.5|    0.5|       0.0|         0.0|                  0.3|        15.3|                 0.0|        0.0|\n",
      "|       2|2022-10-01T05:48:...| 2022-10-01T06:00:...|            1.0|         1.65|       1.0|                 N|          83|           7|         1.0|        9.5|  0.5|    0.5|      1.62|         0.0|                  0.3|       12.42|                 0.0|        0.0|\n",
      "|       2|2022-10-01T06:06:...| 2022-10-01T06:22:...|            1.0|          3.0|       1.0|                 N|          33|         125|         1.0|       13.5|  0.5|    0.5|      3.51|         0.0|                  0.3|       21.06|                2.75|        0.0|\n",
      "|       2|2022-10-01T05:40:...| 2022-10-01T05:58:...|            1.0|         3.92|       5.0|                 N|          95|         216|         2.0|       25.0|  0.0|    0.0|       0.0|         0.0|                  0.3|        25.3|                 0.0|        0.0|\n",
      "|       2|2022-10-01T05:52:...| 2022-10-01T06:07:...|            1.0|         2.94|       5.0|                 N|         130|         216|         2.0|       20.0|  0.0|    0.0|       0.0|         0.0|                  0.3|        20.3|                 0.0|        0.0|\n",
      "|       2|2022-10-01T06:05:...| 2022-10-01T06:21:...|            2.0|         6.48|       1.0|                 N|         116|          68|         1.0|       20.5|  0.5|    0.5|      4.91|         0.0|                  0.3|       29.46|                2.75|        0.0|\n",
      "|       2|2022-10-01T05:48:...| 2022-10-01T05:53:...|            1.0|         0.74|       1.0|                 N|         166|          41|         1.0|        5.0|  0.5|    0.5|      1.89|         0.0|                  0.3|        8.19|                 0.0|        0.0|\n",
      "|       2|2022-10-01T06:08:...| 2022-10-01T06:14:...|            1.0|         1.02|       1.0|                 N|          42|          42|         2.0|        6.0|  0.5|    0.5|       0.0|         0.0|                  0.3|         7.3|                 0.0|        0.0|\n",
      "|       2|2022-10-01T05:36:...| 2022-10-01T05:41:...|            3.0|         0.64|       1.0|                 N|         255|         255|         1.0|        5.0|  0.5|    0.5|      1.26|         0.0|                  0.3|       10.06|                 0.0|        0.0|\n",
      "|       2|2022-10-01T06:11:...| 2022-10-01T06:12:...|            1.0|          0.0|       1.0|                 N|         260|         260|         2.0|        2.5|  0.5|    0.5|       0.0|         0.0|                  0.3|         3.8|                 0.0|        0.0|\n",
      "|       2|2022-10-01T06:21:...| 2022-10-01T06:33:...|            1.0|         1.06|       1.0|                 N|         260|         260|         1.0|        9.5|  0.5|    0.5|      10.0|         0.0|                  0.3|        20.8|                 0.0|        0.0|\n",
      "|       2|2022-10-01T05:36:...| 2022-10-01T05:45:...|            1.0|         1.69|       1.0|                 N|           7|         223|         1.0|        7.5|  0.5|    0.5|      1.76|         0.0|                  0.3|       10.56|                 0.0|        0.0|\n",
      "|       2|2022-10-01T06:31:...| 2022-10-01T06:52:...|            1.0|         6.03|       1.0|                 N|          75|         235|         1.0|       19.5|  0.5|    0.5|       6.0|         0.0|                  0.3|        26.8|                 0.0|        0.0|\n",
      "|       2|2022-10-01T06:09:...| 2022-10-01T06:23:...|            1.0|         3.61|       1.0|                 N|          74|          69|         1.0|       13.5|  0.5|    0.5|      2.96|         0.0|                  0.3|       17.76|                 0.0|        0.0|\n",
      "|       2|2022-10-01T05:57:...| 2022-10-01T06:07:...|            1.0|         2.74|       1.0|                 N|          75|          42|         1.0|       10.5|  0.5|    0.5|       0.0|         0.0|                  0.3|        11.8|                 0.0|        0.0|\n",
      "+--------+--------------------+---------------------+---------------+-------------+----------+------------------+------------+------------+------------+-----------+-----+-------+----------+------------+---------------------+------------+--------------------+-----------+\n",
      "only showing top 20 rows\n",
      "\n"
     ]
    }
   ],
   "source": [
    "# Use tab delimeter to read GreenTaxi file\n",
    "greenTaxiDF = (spark\n",
    "              .read\n",
    "              .option(\"header\", \"true\")\n",
    "              .option(\"delimiter\", \"\\t\")\n",
    "              .csv(\"/home/nishi/PycharmProjects/pythonProject/pySpark/DataFiles/GreenTaxis_*.csv\"))\n",
    "greenTaxiDF.show()"
   ]
  },
  {
   "cell_type": "code",
   "execution_count": 24,
   "id": "b94a1196",
   "metadata": {},
   "outputs": [
    {
     "name": "stdout",
     "output_type": "stream",
     "text": [
      "+-----------+-------------+\n",
      "|PaymentType|PaymentTypeID|\n",
      "+-----------+-------------+\n",
      "|Credit Card|            1|\n",
      "|       Cash|            2|\n",
      "|  No Charge|            3|\n",
      "|    Dispute|            4|\n",
      "|    Unknown|            5|\n",
      "|Voided Trip|            6|\n",
      "+-----------+-------------+\n",
      "\n"
     ]
    }
   ],
   "source": [
    "# Read JSON files\n",
    "paymentTypesDF = (\n",
    "                    spark\n",
    "                    .read\n",
    "                    .json(\"/home/nishi/PycharmProjects/pythonProject/pySpark/DataFiles/PaymentTypes.json\")\n",
    ")\n",
    "paymentTypesDF.show()"
   ]
  },
  {
   "cell_type": "code",
   "execution_count": 25,
   "id": "2471b5ec",
   "metadata": {},
   "outputs": [
    {
     "name": "stderr",
     "output_type": "stream",
     "text": [
      "[Stage 21:===========================================>              (3 + 1) / 4]\r"
     ]
    },
    {
     "name": "stdout",
     "output_type": "stream",
     "text": [
      "root\n",
      " |-- VendorID: integer (nullable = true)\n",
      " |-- tpep_pickup_datetime: timestamp (nullable = true)\n",
      " |-- tpep_dropoff_datetime: timestamp (nullable = true)\n",
      " |-- passenger_count: double (nullable = true)\n",
      " |-- trip_distance: double (nullable = true)\n",
      " |-- RatecodeID: double (nullable = true)\n",
      " |-- store_and_fwd_flag: string (nullable = true)\n",
      " |-- PULocationID: integer (nullable = true)\n",
      " |-- DOLocationID: integer (nullable = true)\n",
      " |-- payment_type: integer (nullable = true)\n",
      " |-- fare_amount: double (nullable = true)\n",
      " |-- extra: double (nullable = true)\n",
      " |-- mta_tax: double (nullable = true)\n",
      " |-- tip_amount: double (nullable = true)\n",
      " |-- tolls_amount: double (nullable = true)\n",
      " |-- improvement_surcharge: double (nullable = true)\n",
      " |-- total_amount: double (nullable = true)\n",
      " |-- congestion_surcharge: double (nullable = true)\n",
      " |-- airport_fee: double (nullable = true)\n",
      "\n"
     ]
    },
    {
     "name": "stderr",
     "output_type": "stream",
     "text": [
      "\r",
      "                                                                                \r"
     ]
    }
   ],
   "source": [
    "#Read Yellowtaxis csv file to create DataFrame\n",
    "yellowTaxiDF = (spark.read.option(\"header\", \"true\")\n",
    "                .option(\"inferSchema\", \"true\")\n",
    "                .csv(\"/home/nishi/PycharmProjects/pythonProject/pySpark/DataFiles/YellowTaxis_202210.csv\"))\n",
    "yellowTaxiDF.printSchema()"
   ]
  },
  {
   "cell_type": "code",
   "execution_count": 28,
   "id": "2eb9a2e8",
   "metadata": {},
   "outputs": [],
   "source": [
    "# Create schema to yellow Taxi\n",
    "yellowTaxiSchema = (\n",
    "StructType([\n",
    "StructField(\"VendorID\" , IntegerType() , True),\n",
    "StructField(\"tpep_pickup_datetime\" , TimestampType() , True),\n",
    "StructField(\"tpep_dropoff_datetime\" , TimestampType() , True),\n",
    "StructField(\"passenger_count\" , DoubleType() , True),\n",
    "StructField(\"trip_distance\" , DoubleType() , True),\n",
    "StructField(\"RatecodeID\" , DoubleType() , True),\n",
    "StructField(\"store_and_fwd_flag\" , StringType() , True),\n",
    "StructField(\"PULocationID\" , IntegerType() , True),\n",
    "StructField(\"DOLocationID\" , IntegerType() , True),\n",
    "StructField(\"payment_type\" , IntegerType() , True),\n",
    "StructField(\"fare_amount\" , DoubleType() , True),\n",
    "StructField(\"extra\" , DoubleType() , True),\n",
    "StructField(\"mta_tax\" , DoubleType() , True),\n",
    "StructField(\"tip_amount\" , DoubleType() , True),\n",
    "StructField(\"tolls_amount\" , DoubleType() , True),\n",
    "StructField(\"improvement_surcharge\" , DoubleType() , True),\n",
    "StructField(\"total_amount\" , DoubleType() , True),\n",
    "StructField(\"congestion_surcharge\" , DoubleType() , True),\n",
    "StructField(\"airport_fee\" , DoubleType() , True)\n",
    "])\n",
    ")"
   ]
  },
  {
   "cell_type": "code",
   "execution_count": 30,
   "id": "55e7a9d0",
   "metadata": {},
   "outputs": [
    {
     "name": "stdout",
     "output_type": "stream",
     "text": [
      "root\n",
      " |-- VendorID: integer (nullable = true)\n",
      " |-- tpep_pickup_datetime: timestamp (nullable = true)\n",
      " |-- tpep_dropoff_datetime: timestamp (nullable = true)\n",
      " |-- passenger_count: double (nullable = true)\n",
      " |-- trip_distance: double (nullable = true)\n",
      " |-- RatecodeID: double (nullable = true)\n",
      " |-- store_and_fwd_flag: string (nullable = true)\n",
      " |-- PULocationID: integer (nullable = true)\n",
      " |-- DOLocationID: integer (nullable = true)\n",
      " |-- payment_type: integer (nullable = true)\n",
      " |-- fare_amount: double (nullable = true)\n",
      " |-- extra: double (nullable = true)\n",
      " |-- mta_tax: double (nullable = true)\n",
      " |-- tip_amount: double (nullable = true)\n",
      " |-- tolls_amount: double (nullable = true)\n",
      " |-- improvement_surcharge: double (nullable = true)\n",
      " |-- total_amount: double (nullable = true)\n",
      " |-- congestion_surcharge: double (nullable = true)\n",
      " |-- airport_fee: double (nullable = true)\n",
      "\n"
     ]
    }
   ],
   "source": [
    "#Create DataFrame using existing dataframe\n",
    "yellowtaxiDF = (\n",
    "    spark.read.option(\"header\", \"true\")\n",
    "               .schema(yellowTaxiSchema)\n",
    "               .csv(\"/home/nishi/PycharmProjects/pythonProject/pySpark/DataFiles/YellowTaxis_202210.csv\"))\n",
    "yellowtaxiDF.printSchema()"
   ]
  },
  {
   "cell_type": "code",
   "execution_count": 36,
   "id": "40d20140",
   "metadata": {},
   "outputs": [
    {
     "name": "stdout",
     "output_type": "stream",
     "text": [
      "+-----------------------------------------------------------+----------+--------------------------------------+------------------------------------------------+--------------+------------+----------------+--------+---------------------------+\n",
      "|Address                                                    |Date      |Entity Name                           |GeoLocation                                     |License Number|SHL Endorsed|Telephone Number|Time    |Type of Base               |\n",
      "+-----------------------------------------------------------+----------+--------------------------------------+------------------------------------------------+--------------+------------+----------------+--------+---------------------------+\n",
      "|{636, NEW YORK, 10001, NY, WEST   28 STREET}               |08/15/2019|VIER-NY,LLC                           |{40.75273, (40.75273, -74.006408), -74.006408}  |B02865        |No          |6466657536      |18:03:31|BLACK CAR BASE             |\n",
      "|{131, BRONX, 10468, NY, KINGSBRIDGE ROAD}                  |08/15/2019|VETERANS RADIO DISPATCHER CORP.       |{40.86927, (40.86927, -73.90281), -73.90281}    |B02634        |No          |7183647878      |18:03:31|LIVERY BASE                |\n",
      "|{115-54, ELMONT, 11003, NY, 238 STREET}                    |08/15/2019|ALPHA VAN LINE                        |{40.693473, (40.693473, -73.724446), -73.724446}|B80094        |No          |5162850750      |18:03:31|COMMUTER VAN AUTHORITY BASE|\n",
      "|{866, BROOKLYN, 11208, NY, NEW LOTS AVENUE}                |08/15/2019|A.T.B. CAR AND LIMOUSINE SERVICE, INC.|{40.667838, (40.667838, -73.8788), -73.8788}    |B02677        |No          |7184854444      |18:03:31|LIVERY BASE                |\n",
      "|{57-48, MASPETH, 11378, NY, MASPETH AVENUE}                |08/15/2019|KYOEI LIMOUSINE, INC.                 |{40.722961, (40.722961, -73.91031), -73.91031}  |B02152        |No          |7183263258      |18:03:31|LUXURY/LIMOUSINE           |\n",
      "|{31-00, LIC, 11101, NY, 47 AVENUE  SUITE # 4123A}          |08/15/2019|ENDOR CAR & DRIVER,LLC.               |{40.742082, (40.742082, -73.93552), -73.93552}  |B02844        |No          |4154758459      |18:03:31|BLACK CAR BASE             |\n",
      "|{68-20A, FRESH MEADOWS, 11365, NY, FRESH MEADOW LANE}      |08/15/2019|SKYWAY EXECUTIVE SERVICE, INC         |{40.733337, (40.733337, -73.794706), -73.794706}|B02841        |No          |7183595959      |18:03:31|BLACK CAR BASE             |\n",
      "|{22-11, LIC, 11101, NY, 38 AVENUE}                         |08/15/2019|FARRELL'S LEASING CO.                 |{40.757077, (40.757077, -73.937504), -73.937504}|B00472        |No          |2128616300      |18:03:31|LUXURY/LIMOUSINE           |\n",
      "|{429, BROOKLYN, 11212, NY, SUTTER AVENUE}                  |08/15/2019|CITY CAR SERVICE CORP                 |{40.668473, (40.668473, -73.903383), -73.903383}|B01739        |No          |7184182222      |18:03:31|LIVERY BASE                |\n",
      "|{41-31, FLUSHING, 11355, NY, MAIN STREET}                  |08/15/2019|YELLOWSTONE TRANSPORTATION INC.       |{40.758114, (40.758114, -73.82962), -73.82962}  |B00248        |No          |7185397777      |18:03:31|LIVERY BASE                |\n",
      "|{1811, BROOKLYN, 11223, NY, EAST    7 STREET}              |08/15/2019|ELTRI CAR SERVICE INC                 |{40.612302, (40.612302, -73.963221), -73.963221}|B02861        |No          |7183820100      |18:03:31|BLACK CAR BASE             |\n",
      "|{104-08, RICHMOND HILL, 11419, NY, 123RD STREET}           |08/15/2019|V.J. CAR & LIMO SVC INC.              |{40.691906, (40.691906, -73.82342), -73.82342}  |B02093        |No          |7186417777      |18:03:31|LIVERY BASE                |\n",
      "|{6701, BROOKLYN, 11204, NY, BAY PARKWAY  OFFICE #1 3RD FLR}|08/15/2019|ADVANTAGE LIMO OF NY INC              |{40.603784, (40.603784, -73.972558), -73.972558}|B02980        |No          |3478655876      |18:03:31|LUXURY/LIMOUSINE           |\n",
      "|{636, NEW YORK, 10001, NY, WEST   28 STREET}               |08/15/2019|ELF-NY,LLC                            |{40.75273, (40.75273, -74.00641), -74.00641}    |B02878        |No          |6466657540      |18:03:31|BLACK CAR BASE             |\n",
      "|{85-02, REGO PARK, 11374, NY, 67 AVENUE  SUITE 1}          |08/15/2019|ALTA MEDICAL TRANSPORTATION, INC.     |{40.717275, (40.717275, -73.86211), -73.86211}  |B90691        |No          |7188972582      |18:03:31|PARATRANSIT BASE           |\n",
      "|{565, BRONX, 10460, NY, VAN NEST AVENUE}                   |08/15/2019|RAELEEN CAR CORP.                     |{40.755734, (40.755734, -73.93795), -73.93795}  |B02840        |No          |9176031815      |18:03:31|BLACK CAR BASE             |\n",
      "|{2421, BROOKLYN, 11214, NY, BATH AVENUE}                   |08/15/2019|ASCONA CAR SERVICE INC.               |{40.595422, (40.595422, -73.992368), -73.992368}|B02658        |No          |7186461611      |18:03:31|LIVERY BASE                |\n",
      "|{6318, BROOKLYN, 11219, NY, 14 AVENUE}                     |08/15/2019|CHICO EXPRESS LIMO, INC.              |{40.625609, (40.625609, -73.998684), -73.998684}|B02331        |No          |7182367777      |18:03:31|BLACK CAR BASE             |\n",
      "|{32-10, LIC, 11101, NY, GREENPOINT AVENUE}                 |08/15/2019|LYFE AUTO GROUP INC                   |{40.734944, (40.734944, -73.935733), -73.935733}|B02969        |No          |7187066234      |18:03:31|BLACK CAR BASE             |\n",
      "|{626, UNIONDALE, 11556, NY, REXCORP PLAZA}                 |08/15/2019|SAROS TRANSPORTATION GROUP INC.       |{40.638931, (40.638931, -73.982954), -73.982954}|B02651        |No          |7185640084      |18:03:31|BLACK CAR BASE             |\n",
      "+-----------------------------------------------------------+----------+--------------------------------------+------------------------------------------------+--------------+------------+----------------+--------+---------------------------+\n",
      "only showing top 20 rows\n",
      "\n"
     ]
    }
   ],
   "source": [
    "#Read Multiline JSON file\n",
    "taxiBasesDF = (spark\n",
    "               .read\n",
    "               .option(\"multiline\", \"true\")\n",
    "               .json(\"/home/nishi/PycharmProjects/pythonProject/pySpark/DataFiles/TaxiBases.json\"))\n",
    "taxiBasesDF.show(truncate=False)"
   ]
  },
  {
   "cell_type": "code",
   "execution_count": 37,
   "id": "d9d76a17",
   "metadata": {},
   "outputs": [
    {
     "name": "stdout",
     "output_type": "stream",
     "text": [
      "root\n",
      " |-- Address: struct (nullable = true)\n",
      " |    |-- Building: string (nullable = true)\n",
      " |    |-- City: string (nullable = true)\n",
      " |    |-- Postcode: long (nullable = true)\n",
      " |    |-- State: string (nullable = true)\n",
      " |    |-- Street: string (nullable = true)\n",
      " |-- Date: string (nullable = true)\n",
      " |-- Entity Name: string (nullable = true)\n",
      " |-- GeoLocation: struct (nullable = true)\n",
      " |    |-- Latitude: double (nullable = true)\n",
      " |    |-- Location: string (nullable = true)\n",
      " |    |-- Longitude: double (nullable = true)\n",
      " |-- License Number: string (nullable = true)\n",
      " |-- SHL Endorsed: string (nullable = true)\n",
      " |-- Telephone Number: long (nullable = true)\n",
      " |-- Time: string (nullable = true)\n",
      " |-- Type of Base: string (nullable = true)\n",
      "\n"
     ]
    }
   ],
   "source": [
    "taxiBasesDF.printSchema()"
   ]
  },
  {
   "cell_type": "code",
   "execution_count": 38,
   "id": "1f5022d8",
   "metadata": {},
   "outputs": [
    {
     "name": "stderr",
     "output_type": "stream",
     "text": [
      "[Stage 24:==============>                                           (1 + 3) / 4]\r"
     ]
    },
    {
     "name": "stdout",
     "output_type": "stream",
     "text": [
      "+-------+------------------+-----------------+\n",
      "|summary|   passenger_count|    trip_distance|\n",
      "+-------+------------------+-----------------+\n",
      "|  count|           3542392|          3675412|\n",
      "|   mean|1.3846934500755421|6.206976298167358|\n",
      "| stddev|0.9302303297407405|640.8236808320215|\n",
      "|    min|               0.0|              0.0|\n",
      "|    max|               9.0|        389678.46|\n",
      "+-------+------------------+-----------------+\n",
      "\n"
     ]
    },
    {
     "name": "stderr",
     "output_type": "stream",
     "text": [
      "\r",
      "                                                                                \r"
     ]
    }
   ],
   "source": [
    "yellowTaxiAnalyzedDF = (yellowTaxiDF.describe(\"passenger_count\", \"trip_distance\"))\n",
    "yellowTaxiAnalyzedDF.show()"
   ]
  },
  {
   "cell_type": "code",
   "execution_count": 43,
   "id": "07efcc1c",
   "metadata": {},
   "outputs": [
    {
     "name": "stderr",
     "output_type": "stream",
     "text": [
      "                                                                                \r"
     ]
    },
    {
     "name": "stdout",
     "output_type": "stream",
     "text": [
      "Before operation = 3472140\n"
     ]
    },
    {
     "name": "stderr",
     "output_type": "stream",
     "text": [
      "\r",
      "[Stage 32:>                                                         (0 + 4) / 4]\r"
     ]
    },
    {
     "name": "stdout",
     "output_type": "stream",
     "text": [
      "After operation = 3422296\n"
     ]
    },
    {
     "name": "stderr",
     "output_type": "stream",
     "text": [
      "\r",
      "[Stage 32:===========================================>              (3 + 1) / 4]\r",
      "\r",
      "                                                                                \r"
     ]
    }
   ],
   "source": [
    "# Display the count before operation\n",
    "print(\"Before operation = \"+ str(yellowTaxiDF.count()))\n",
    "\n",
    "yellowTaxiDF = (yellowTaxiDF.where(\"passenger_count > 0\")\n",
    ".filter(col(\"trip_distance\") > 0.0))\n",
    "\n",
    "# Display the count after operation\n",
    "\n",
    "print(\"After operation = \"+ str(yellowTaxiDF.count()))"
   ]
  },
  {
   "cell_type": "code",
   "execution_count": 44,
   "id": "06b99b54",
   "metadata": {},
   "outputs": [
    {
     "name": "stderr",
     "output_type": "stream",
     "text": [
      "                                                                                \r"
     ]
    },
    {
     "name": "stdout",
     "output_type": "stream",
     "text": [
      "Before operation = 3422296\n"
     ]
    },
    {
     "name": "stderr",
     "output_type": "stream",
     "text": [
      "[Stage 37:===============================================>      (176 + 4) / 200]\r"
     ]
    },
    {
     "name": "stdout",
     "output_type": "stream",
     "text": [
      "After operation = 3422295\n"
     ]
    },
    {
     "name": "stderr",
     "output_type": "stream",
     "text": [
      "\r",
      "                                                                                \r"
     ]
    }
   ],
   "source": [
    "# Display the count before operation\n",
    "print( \"Before operation = \"+ str(yellowTaxiDF.count()))\n",
    "\n",
    "yellowTaxiDF = (\n",
    "                yellowTaxiDF.dropDuplicates()\n",
    "                )\n",
    "# Display the count after operation\n",
    "print( \"After operation = \"+ str(yellowTaxiDF.count()))"
   ]
  },
  {
   "cell_type": "code",
   "execution_count": 48,
   "id": "9dad3621",
   "metadata": {},
   "outputs": [
    {
     "name": "stderr",
     "output_type": "stream",
     "text": [
      "                                                                                \r"
     ]
    },
    {
     "name": "stdout",
     "output_type": "stream",
     "text": [
      "Before operation = 3422295\n"
     ]
    },
    {
     "name": "stderr",
     "output_type": "stream",
     "text": [
      "[Stage 49:=================================================>    (182 + 4) / 200]\r"
     ]
    },
    {
     "name": "stdout",
     "output_type": "stream",
     "text": [
      "After operation = 3393897\n"
     ]
    },
    {
     "name": "stderr",
     "output_type": "stream",
     "text": [
      "\r",
      "                                                                                \r"
     ]
    }
   ],
   "source": [
    "# Display the count before operation\n",
    "print( \"Before operation = \"+ str(yellowTaxiDF.count()))\n",
    "\n",
    "yellowTaxiDF = (\n",
    "                yellowTaxiDF.where(\"tpep_pickup_datetime >= '2022-10-01' AND tpep_dropoff_datetime < '2022-11-01'\")\n",
    "                )\n",
    "# Display the count after operation\n",
    "print( \"After operation = \"+ str(yellowTaxiDF.count()))"
   ]
  },
  {
   "cell_type": "code",
   "execution_count": 51,
   "id": "88bc839d",
   "metadata": {},
   "outputs": [
    {
     "name": "stderr",
     "output_type": "stream",
     "text": [
      "                                                                                \r"
     ]
    },
    {
     "data": {
      "text/plain": [
       "3393897"
      ]
     },
     "execution_count": 51,
     "metadata": {},
     "output_type": "execute_result"
    }
   ],
   "source": [
    "# Cleanup data using DataQuality checks\n",
    "\n",
    "yellowtaxiDF = (yellowTaxiDF\n",
    "               .where (\"passenger_count > 0\")\n",
    "               .filter(col(\"trip_distance\") > 0.0)\n",
    "               .na.drop('all')\n",
    "               #.na.fill(defaultValueMap)\n",
    "               .dropDuplicates()\n",
    "               .where(\"tpep_pickup_datetime >= '2022-10-01' AND tpep_dropoff_datetime < '2022-11-01'\"))\n",
    "\n",
    "yellowtaxiDF.count()"
   ]
  },
  {
   "cell_type": "code",
   "execution_count": 56,
   "id": "377dafa7",
   "metadata": {},
   "outputs": [
    {
     "name": "stdout",
     "output_type": "stream",
     "text": [
      "root\n",
      " |-- VendorID: integer (nullable = true)\n",
      " |-- passenger_count: integer (nullable = true)\n",
      " |-- TripDistance: double (nullable = true)\n",
      " |-- tpep_pickup_datetime: timestamp (nullable = true)\n",
      " |-- tpep_dropoff_datetime: timestamp (nullable = true)\n",
      " |-- PULocationID: integer (nullable = true)\n",
      " |-- DOLocationID: integer (nullable = true)\n",
      " |-- RatecodeID: double (nullable = true)\n",
      " |-- total_amount: double (nullable = true)\n",
      " |-- payment_type: integer (nullable = true)\n",
      "\n"
     ]
    }
   ],
   "source": [
    "# change DataFrame\n",
    "yellowTaxiDF = (yellowTaxiDF\n",
    "               # Select only limites columns\n",
    "               .select(\n",
    "               \"VendorID\",\n",
    "               col(\"passenger_count\").cast(IntegerType()),\n",
    "               column(\"trip_distance\").alias(\"TripDistance\"),\n",
    "               yellowTaxiDF.tpep_pickup_datetime,\n",
    "               \"tpep_dropoff_datetime\",\n",
    "               \"PULocationID\",\n",
    "               \"DOLocationID\",\n",
    "               \"RatecodeID\",\n",
    "               \"total_amount\",\n",
    "               \"payment_type\"))\n",
    "yellowTaxiDF.printSchema()"
   ]
  },
  {
   "cell_type": "code",
   "execution_count": 57,
   "id": "bfbb17bf",
   "metadata": {},
   "outputs": [
    {
     "name": "stdout",
     "output_type": "stream",
     "text": [
      "root\n",
      " |-- VendorID: integer (nullable = true)\n",
      " |-- PassengerCount: integer (nullable = true)\n",
      " |-- TripDistance: double (nullable = true)\n",
      " |-- PickupTime: timestamp (nullable = true)\n",
      " |-- DropTime: timestamp (nullable = true)\n",
      " |-- PickupLocationId: integer (nullable = true)\n",
      " |-- DropLocationId: integer (nullable = true)\n",
      " |-- RatecodeID: double (nullable = true)\n",
      " |-- TotalAmount: double (nullable = true)\n",
      " |-- PaymentType: integer (nullable = true)\n",
      "\n"
     ]
    }
   ],
   "source": [
    "# change DataFrame\n",
    "yellowTaxiDF = (yellowTaxiDF\n",
    "               .withColumnRenamed(\"passenger_count\", \"PassengerCount\")\n",
    "               .withColumnRenamed(\"tpep_pickup_datetime\", \"PickupTime\")\n",
    "               .withColumnRenamed(\"tpep_dropoff_datetime\", \"DropTime\")\n",
    "               .withColumnRenamed(\"PULocationID\", \"PickupLocationId\")\n",
    "               .withColumnRenamed(\"DOLocationID\", \"DropLocationId\")\n",
    "               .withColumnRenamed(\"total_amount\", \"TotalAmount\")\n",
    "               .withColumnRenamed(\"payment_type\", \"PaymentType\"))\n",
    "yellowTaxiDF.printSchema()"
   ]
  },
  {
   "cell_type": "code",
   "execution_count": 59,
   "id": "9b3b6065",
   "metadata": {},
   "outputs": [
    {
     "name": "stdout",
     "output_type": "stream",
     "text": [
      "root\n",
      " |-- VendorID: integer (nullable = true)\n",
      " |-- PassengerCount: integer (nullable = true)\n",
      " |-- TripDistance: double (nullable = true)\n",
      " |-- PickupTime: timestamp (nullable = true)\n",
      " |-- DropTime: timestamp (nullable = true)\n",
      " |-- PickupLocationId: integer (nullable = true)\n",
      " |-- DropLocationId: integer (nullable = true)\n",
      " |-- RatecodeID: double (nullable = true)\n",
      " |-- TotalAmount: double (nullable = true)\n",
      " |-- PaymentType: integer (nullable = true)\n",
      " |-- TripYear: integer (nullable = true)\n",
      " |-- TripMonth: integer (nullable = true)\n",
      " |-- Tripday: integer (nullable = true)\n",
      "\n"
     ]
    }
   ],
   "source": [
    "#Create derived column for year , month and day\n",
    "yellowTaxiDF = (yellowTaxiDF\n",
    "               .withColumn(\"TripYear\", year(col(\"PickupTime\")))\n",
    "               .select(\"*\",\n",
    "                      expr(\"month(PickupTime) AS TripMonth\"),\n",
    "                      dayofmonth(col(\"PickupTime\")).alias(\"Tripday\")\n",
    "                      ))\n",
    "\n",
    "yellowTaxiDF.printSchema()"
   ]
  },
  {
   "cell_type": "code",
   "execution_count": 60,
   "id": "9439e43e",
   "metadata": {},
   "outputs": [
    {
     "name": "stdout",
     "output_type": "stream",
     "text": [
      "root\n",
      " |-- VendorID: integer (nullable = true)\n",
      " |-- PassengerCount: integer (nullable = true)\n",
      " |-- TripDistance: double (nullable = true)\n",
      " |-- PickupTime: timestamp (nullable = true)\n",
      " |-- DropTime: timestamp (nullable = true)\n",
      " |-- PickupLocationId: integer (nullable = true)\n",
      " |-- DropLocationId: integer (nullable = true)\n",
      " |-- RatecodeID: double (nullable = true)\n",
      " |-- TotalAmount: double (nullable = true)\n",
      " |-- PaymentType: integer (nullable = true)\n",
      " |-- TripYear: integer (nullable = true)\n",
      " |-- TripMonth: integer (nullable = true)\n",
      " |-- Tripday: integer (nullable = true)\n",
      " |-- TripTimeinMinutes: double (nullable = true)\n",
      "\n"
     ]
    }
   ],
   "source": [
    "#Option 1\n",
    "yellowTaxiDF = (yellowTaxiDF\n",
    "               .withColumn(\"TripTimeinMinutes\",\n",
    "                           round((unix_timestamp(col(\"DropTime\"))\n",
    "                                 -unix_timestamp(col(\"PickupTime\")))/60)\n",
    "                          ))\n",
    "\n",
    "yellowTaxiDF.printSchema()"
   ]
  },
  {
   "cell_type": "code",
   "execution_count": null,
   "id": "2cffbe56",
   "metadata": {},
   "outputs": [],
   "source": []
  }
 ],
 "metadata": {
  "kernelspec": {
   "display_name": "Python 3 (ipykernel)",
   "language": "python",
   "name": "python3"
  },
  "language_info": {
   "codemirror_mode": {
    "name": "ipython",
    "version": 3
   },
   "file_extension": ".py",
   "mimetype": "text/x-python",
   "name": "python",
   "nbconvert_exporter": "python",
   "pygments_lexer": "ipython3",
   "version": "3.10.12"
  }
 },
 "nbformat": 4,
 "nbformat_minor": 5
}

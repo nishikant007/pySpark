{
 "cells": [
  {
   "cell_type": "code",
   "execution_count": 1,
   "id": "533294d5",
   "metadata": {},
   "outputs": [
    {
     "name": "stderr",
     "output_type": "stream",
     "text": [
      "23/08/06 11:51:19 WARN Utils: Your hostname, nishi-ubuntu resolves to a loopback address: 127.0.1.1; using 192.168.1.40 instead (on interface enp0s31f6)\n",
      "23/08/06 11:51:19 WARN Utils: Set SPARK_LOCAL_IP if you need to bind to another address\n",
      "Setting default log level to \"WARN\".\n",
      "To adjust logging level use sc.setLogLevel(newLevel). For SparkR, use setLogLevel(newLevel).\n",
      "23/08/06 11:51:37 WARN NativeCodeLoader: Unable to load native-hadoop library for your platform... using builtin-java classes where applicable\n"
     ]
    }
   ],
   "source": [
    "from pyspark.sql import SparkSession\n",
    "from pyspark.sql.types import *\n",
    "spark = (\n",
    "SparkSession.builder.appName(\"RDDApp\")\n",
    "    .master(\"local[4]\")\n",
    "    .getOrCreate()\n",
    ")"
   ]
  },
  {
   "cell_type": "code",
   "execution_count": 2,
   "id": "5d14500e",
   "metadata": {},
   "outputs": [
    {
     "data": {
      "text/html": [
       "\n",
       "            <div>\n",
       "                <p><b>SparkSession - in-memory</b></p>\n",
       "                \n",
       "        <div>\n",
       "            <p><b>SparkContext</b></p>\n",
       "\n",
       "            <p><a href=\"http://nishi-ubuntu.bbrouter:4040\">Spark UI</a></p>\n",
       "\n",
       "            <dl>\n",
       "              <dt>Version</dt>\n",
       "                <dd><code>v3.4.1</code></dd>\n",
       "              <dt>Master</dt>\n",
       "                <dd><code>local[4]</code></dd>\n",
       "              <dt>AppName</dt>\n",
       "                <dd><code>RDDApp</code></dd>\n",
       "            </dl>\n",
       "        </div>\n",
       "        \n",
       "            </div>\n",
       "        "
      ],
      "text/plain": [
       "<pyspark.sql.session.SparkSession at 0x7f9dbc135390>"
      ]
     },
     "execution_count": 2,
     "metadata": {},
     "output_type": "execute_result"
    }
   ],
   "source": [
    "spark"
   ]
  },
  {
   "cell_type": "code",
   "execution_count": 3,
   "id": "ca0d360a",
   "metadata": {},
   "outputs": [],
   "source": [
    "# Create a variabel for SparkContext\n",
    "sc = spark.sparkContext"
   ]
  },
  {
   "cell_type": "code",
   "execution_count": 4,
   "id": "17298824",
   "metadata": {},
   "outputs": [],
   "source": [
    "# Create RDD using Parallelize\n",
    "numbresRDD = sc.parallelize([1,2,3,4,5,6,7,8,9])"
   ]
  },
  {
   "cell_type": "code",
   "execution_count": 5,
   "id": "eab42b5d",
   "metadata": {},
   "outputs": [
    {
     "data": {
      "text/plain": [
       "4"
      ]
     },
     "execution_count": 5,
     "metadata": {},
     "output_type": "execute_result"
    }
   ],
   "source": [
    "# Check RDD partitions\n",
    "numbresRDD.getNumPartitions()"
   ]
  },
  {
   "cell_type": "code",
   "execution_count": 6,
   "id": "7c014d10",
   "metadata": {},
   "outputs": [
    {
     "name": "stdout",
     "output_type": "stream",
     "text": [
      "[1, 2, 3, 4, 5, 6, 7, 8, 9]\n"
     ]
    }
   ],
   "source": [
    "# Get Results from RDD\n",
    "output = numbresRDD.collect()\n",
    "print(output)"
   ]
  },
  {
   "cell_type": "code",
   "execution_count": 7,
   "id": "d6f41821",
   "metadata": {},
   "outputs": [
    {
     "name": "stderr",
     "output_type": "stream",
     "text": [
      "                                                                                \r"
     ]
    },
    {
     "data": {
      "text/plain": [
       "[1, 2]"
      ]
     },
     "execution_count": 7,
     "metadata": {},
     "output_type": "execute_result"
    }
   ],
   "source": [
    "# get an array of 2 records\n",
    "numbresRDD.take(2)"
   ]
  },
  {
   "cell_type": "code",
   "execution_count": 8,
   "id": "9df54835",
   "metadata": {},
   "outputs": [
    {
     "data": {
      "text/plain": [
       "1"
      ]
     },
     "execution_count": 8,
     "metadata": {},
     "output_type": "execute_result"
    }
   ],
   "source": [
    "# get first record of RDD\n",
    "# first() return and element while take(1) return and array with one lement\n",
    "numbresRDD.first()"
   ]
  },
  {
   "cell_type": "code",
   "execution_count": 9,
   "id": "d36c2b2f",
   "metadata": {},
   "outputs": [],
   "source": [
    "# Create RDD with Complex Type\n",
    "employeeRDD = sc.parallelize([\n",
    "    [1, \"Neha\", 10000],\n",
    "    [2, \"Steve\", 20000],\n",
    "    [3, \"Kari\", 30000],\n",
    "    [4, \"Ivan\", 40000],\n",
    "    [5, \"Mohit\", 50000],\n",
    "])"
   ]
  },
  {
   "cell_type": "code",
   "execution_count": 10,
   "id": "95ca7b19",
   "metadata": {},
   "outputs": [
    {
     "data": {
      "text/plain": [
       "[1, 'Neha', 10000]"
      ]
     },
     "execution_count": 10,
     "metadata": {},
     "output_type": "execute_result"
    }
   ],
   "source": [
    "# Get the first element of the RDD\n",
    "employeeRDD.first()"
   ]
  },
  {
   "cell_type": "code",
   "execution_count": 11,
   "id": "758fd080",
   "metadata": {},
   "outputs": [
    {
     "data": {
      "text/plain": [
       "[[1, 'Neha', 10000], [2, 'Steve', 20000]]"
      ]
     },
     "execution_count": 11,
     "metadata": {},
     "output_type": "execute_result"
    }
   ],
   "source": [
    "# Get array of first two element\n",
    "employeeRDD.take(2)"
   ]
  },
  {
   "cell_type": "code",
   "execution_count": 12,
   "id": "9cf3fe80",
   "metadata": {},
   "outputs": [],
   "source": [
    "# Read Taxi Zone data \n",
    "taxiZoneDataRDD = sc.textFile(\"/home/nishi/PycharmProjects/pythonProject/pySpark/DataFiles/TaxiZones.csv\")"
   ]
  },
  {
   "cell_type": "code",
   "execution_count": 13,
   "id": "112d19e2",
   "metadata": {},
   "outputs": [
    {
     "data": {
      "text/plain": [
       "['1,EWR,Newark Airport,EWR',\n",
       " '2,Queens,Jamaica Bay,Boro Zone',\n",
       " '3,Bronx,Allerton/Pelham Gardens,Boro Zone',\n",
       " '4,Manhattan,Alphabet City,Yellow Zone',\n",
       " '5,Staten Island,Arden Heights,Boro Zone',\n",
       " '6,Staten Island,Arrochar/Fort Wadsworth,Boro Zone',\n",
       " '7,Queens,Astoria,Boro Zone',\n",
       " '8,Queens,Astoria Park,Boro Zone',\n",
       " '9,Queens,Auburndale,Boro Zone',\n",
       " '10,Queens,Baisley Park,Boro Zone']"
      ]
     },
     "execution_count": 13,
     "metadata": {},
     "output_type": "execute_result"
    }
   ],
   "source": [
    "# Get first 10 records\n",
    "taxiZoneDataRDD.take(10)"
   ]
  },
  {
   "cell_type": "code",
   "execution_count": 14,
   "id": "c929f9d7",
   "metadata": {},
   "outputs": [
    {
     "data": {
      "text/plain": [
       "2"
      ]
     },
     "execution_count": 14,
     "metadata": {},
     "output_type": "execute_result"
    }
   ],
   "source": [
    "taxiZoneDataRDD.getNumPartitions()"
   ]
  },
  {
   "cell_type": "code",
   "execution_count": 15,
   "id": "5bfac4ad",
   "metadata": {},
   "outputs": [
    {
     "data": {
      "text/plain": [
       "4"
      ]
     },
     "execution_count": 15,
     "metadata": {},
     "output_type": "execute_result"
    }
   ],
   "source": [
    "# Read Taxi Zone data with 4 partitions\n",
    "taxiZoneDataRDD = sc.textFile(\"/home/nishi/PycharmProjects/pythonProject/pySpark/DataFiles/TaxiZones.csv\", 4)\n",
    "taxiZoneDataRDD.getNumPartitions()"
   ]
  },
  {
   "cell_type": "code",
   "execution_count": 16,
   "id": "956e5040",
   "metadata": {},
   "outputs": [
    {
     "data": {
      "text/plain": [
       "[['1', 'EWR', 'Newark Airport', 'EWR'],\n",
       " ['2', 'Queens', 'Jamaica Bay', 'Boro Zone'],\n",
       " ['3', 'Bronx', 'Allerton/Pelham Gardens', 'Boro Zone'],\n",
       " ['4', 'Manhattan', 'Alphabet City', 'Yellow Zone'],\n",
       " ['5', 'Staten Island', 'Arden Heights', 'Boro Zone']]"
      ]
     },
     "execution_count": 16,
     "metadata": {},
     "output_type": "execute_result"
    }
   ],
   "source": [
    "# Creating one RD from another RDD using lambda function\n",
    "taxiZoneWithColsRDD = (taxiZoneDataRDD.map( lambda zone: zone.split(\",\")))\n",
    "taxiZoneWithColsRDD.take(5)"
   ]
  },
  {
   "cell_type": "code",
   "execution_count": 17,
   "id": "61384353",
   "metadata": {},
   "outputs": [
    {
     "data": {
      "text/plain": [
       "[['41', 'Manhattan', 'Central Harlem', 'Boro Zone'],\n",
       " ['42', 'Manhattan', 'Central Harlem North', 'Boro Zone'],\n",
       " ['43', 'Manhattan', 'Central Park', 'Yellow Zone']]"
      ]
     },
     "execution_count": 17,
     "metadata": {},
     "output_type": "execute_result"
    }
   ],
   "source": [
    "# Apply filter Operation\n",
    "# Get data where Borough is 'Manhattan' and zone begin with 'Central'\n",
    "\n",
    "filterZoneRDD = (\n",
    "taxiZoneDataRDD.map(lambda zone: zone.split(\",\"))\n",
    "    .filter(\n",
    "lambda zoneRow: zoneRow[1] == \"Manhattan\"\n",
    "    and zoneRow[2].lower().startswith(\"central\")\n",
    ")\n",
    ")\n",
    "filterZoneRDD.take(5)"
   ]
  },
  {
   "cell_type": "code",
   "execution_count": 18,
   "id": "f91a6fbb",
   "metadata": {},
   "outputs": [
    {
     "data": {
      "text/plain": [
       "[['2', 'Queens', 'Jamaica Bay', 'Boro Zone'],\n",
       " ['4', 'Manhattan', 'Alphabet City', 'Yellow Zone'],\n",
       " ['6', 'Staten Island', 'Arrochar/Fort Wadsworth', 'Boro Zone'],\n",
       " ['8', 'Queens', 'Astoria Park', 'Boro Zone'],\n",
       " ['10', 'Queens', 'Baisley Park', 'Boro Zone']]"
      ]
     },
     "execution_count": 18,
     "metadata": {},
     "output_type": "execute_result"
    }
   ],
   "source": [
    "# List of Zone with even location ID\n",
    "evenLocationRDD = (\n",
    "taxiZoneWithColsRDD.filter(\n",
    "lambda locationFilter: int(locationFilter[0])%2==0\n",
    ")\n",
    ")\n",
    "evenLocationRDD.take(5)"
   ]
  },
  {
   "cell_type": "code",
   "execution_count": 19,
   "id": "c6c8e373",
   "metadata": {},
   "outputs": [
    {
     "data": {
      "text/plain": [
       "[['2', 'Queens', 'Jamaica Bay', 'Boro Zone'],\n",
       " ['4', 'Manhattan', 'Alphabet City', 'Yellow Zone'],\n",
       " ['6', 'Staten Island', 'Arrochar/Fort Wadsworth', 'Boro Zone'],\n",
       " ['8', 'Queens', 'Astoria Park', 'Boro Zone'],\n",
       " ['10', 'Queens', 'Baisley Park', 'Boro Zone'],\n",
       " ['12', 'Manhattan', 'Battery Park', 'Yellow Zone'],\n",
       " ['14', 'Brooklyn', 'Bay Ridge', 'Boro Zone'],\n",
       " ['16', 'Queens', 'Bayside', 'Boro Zone'],\n",
       " ['18', 'Bronx', 'Bedford Park', 'Boro Zone'],\n",
       " ['20', 'Bronx', 'Belmont', 'Boro Zone'],\n",
       " ['22', 'Brooklyn', 'Bensonhurst West', 'Boro Zone'],\n",
       " ['24', 'Manhattan', 'Bloomingdale', 'Yellow Zone'],\n",
       " ['26', 'Brooklyn', 'Borough Park', 'Boro Zone'],\n",
       " ['28', 'Queens', 'Briarwood/Jamaica Hills', 'Boro Zone'],\n",
       " ['30', 'Queens', 'Broad Channel', 'Boro Zone'],\n",
       " ['32', 'Bronx', 'Bronxdale', 'Boro Zone'],\n",
       " ['34', 'Brooklyn', 'Brooklyn Navy Yard', 'Boro Zone'],\n",
       " ['36', 'Brooklyn', 'Bushwick North', 'Boro Zone'],\n",
       " ['38', 'Queens', 'Cambria Heights', 'Boro Zone'],\n",
       " ['40', 'Brooklyn', 'Carroll Gardens', 'Boro Zone'],\n",
       " ['42', 'Manhattan', 'Central Harlem North', 'Boro Zone'],\n",
       " ['44', 'Staten Island', 'Charleston/Tottenville', 'Boro Zone'],\n",
       " ['46', 'Bronx', 'City Island', 'Boro Zone'],\n",
       " ['48', 'Manhattan', 'Clinton East', 'Yellow Zone'],\n",
       " ['50', 'Manhattan', 'Clinton West', 'Yellow Zone'],\n",
       " ['52', 'Brooklyn', 'Cobble Hill', 'Boro Zone'],\n",
       " ['54', 'Brooklyn', 'Columbia Street', 'Boro Zone'],\n",
       " ['56', 'Queens', 'Corona', 'Boro Zone'],\n",
       " ['58', 'Bronx', 'Country Club', 'Boro Zone'],\n",
       " ['60', 'Bronx', 'Crotona Park East', 'Boro Zone'],\n",
       " ['62', 'Brooklyn', 'Crown Heights South', 'Boro Zone'],\n",
       " ['64', 'Queens', 'Douglaston', 'Boro Zone'],\n",
       " ['66', 'Brooklyn', 'DUMBO/Vinegar Hill', 'Boro Zone'],\n",
       " ['68', 'Manhattan', 'East Chelsea', 'Yellow Zone'],\n",
       " ['70', 'Queens', 'East Elmhurst', 'Boro Zone'],\n",
       " ['72', 'Brooklyn', 'East Flatbush/Remsen Village', 'Boro Zone'],\n",
       " ['74', 'Manhattan', 'East Harlem North', 'Boro Zone'],\n",
       " ['76', 'Brooklyn', 'East New York', 'Boro Zone'],\n",
       " ['78', 'Bronx', 'East Tremont', 'Boro Zone'],\n",
       " ['80', 'Brooklyn', 'East Williamsburg', 'Boro Zone'],\n",
       " ['82', 'Queens', 'Elmhurst', 'Boro Zone'],\n",
       " ['84', 'Staten Island', \"Eltingville/Annadale/Prince's Bay\", 'Boro Zone'],\n",
       " ['86', 'Queens', 'Far Rockaway', 'Boro Zone'],\n",
       " ['88', 'Manhattan', 'Financial District South', 'Yellow Zone'],\n",
       " ['90', 'Manhattan', 'Flatiron', 'Yellow Zone'],\n",
       " ['92', 'Queens', 'Flushing', 'Boro Zone'],\n",
       " ['94', 'Bronx', 'Fordham South', 'Boro Zone'],\n",
       " ['96', 'Queens', 'Forest Park/Highland Park', 'Boro Zone'],\n",
       " ['98', 'Queens', 'Fresh Meadows', 'Boro Zone'],\n",
       " ['100', 'Manhattan', 'Garment District', 'Yellow Zone'],\n",
       " ['102', 'Queens', 'Glendale', 'Boro Zone'],\n",
       " ['104',\n",
       "  'Manhattan',\n",
       "  \"Governor's Island/Ellis Island/Liberty Island\",\n",
       "  'Yellow Zone'],\n",
       " ['106', 'Brooklyn', 'Gowanus', 'Boro Zone'],\n",
       " ['108', 'Brooklyn', 'Gravesend', 'Boro Zone'],\n",
       " ['110', 'Staten Island', 'Great Kills Park', 'Boro Zone'],\n",
       " ['112', 'Brooklyn', 'Greenpoint', 'Boro Zone'],\n",
       " ['114', 'Manhattan', 'Greenwich Village South', 'Yellow Zone'],\n",
       " ['116', 'Manhattan', 'Hamilton Heights', 'Boro Zone'],\n",
       " ['118', 'Staten Island', 'Heartland Village/Todt Hill', 'Boro Zone'],\n",
       " ['120', 'Manhattan', 'Highbridge Park', 'Boro Zone'],\n",
       " ['122', 'Queens', 'Hollis', 'Boro Zone'],\n",
       " ['124', 'Queens', 'Howard Beach', 'Boro Zone'],\n",
       " ['126', 'Bronx', 'Hunts Point', 'Boro Zone'],\n",
       " ['128', 'Manhattan', 'Inwood Hill Park', 'Boro Zone'],\n",
       " ['130', 'Queens', 'Jamaica', 'Boro Zone'],\n",
       " ['132', 'Queens', 'JFK Airport', 'Airports'],\n",
       " ['134', 'Queens', 'Kew Gardens', 'Boro Zone'],\n",
       " ['136', 'Bronx', 'Kingsbridge Heights', 'Boro Zone'],\n",
       " ['138', 'Queens', 'LaGuardia Airport', 'Airports'],\n",
       " ['140', 'Manhattan', 'Lenox Hill East', 'Yellow Zone'],\n",
       " ['142', 'Manhattan', 'Lincoln Square East', 'Yellow Zone'],\n",
       " ['144', 'Manhattan', 'Little Italy/NoLiTa', 'Yellow Zone'],\n",
       " ['146', 'Queens', 'Long Island City/Queens Plaza', 'Boro Zone'],\n",
       " ['148', 'Manhattan', 'Lower East Side', 'Yellow Zone'],\n",
       " ['150', 'Brooklyn', 'Manhattan Beach', 'Boro Zone'],\n",
       " ['152', 'Manhattan', 'Manhattanville', 'Boro Zone'],\n",
       " ['154', 'Brooklyn', 'Marine Park/Floyd Bennett Field', 'Boro Zone'],\n",
       " ['156', 'Staten Island', 'Mariners Harbor', 'Boro Zone'],\n",
       " ['158', 'Manhattan', 'Meatpacking/West Village West', 'Yellow Zone'],\n",
       " ['160', 'Queens', 'Middle Village', 'Boro Zone'],\n",
       " ['162', 'Manhattan', 'Midtown East', 'Yellow Zone'],\n",
       " ['164', 'Manhattan', 'Midtown South', 'Yellow Zone'],\n",
       " ['166', 'Manhattan', 'Morningside Heights', 'Boro Zone'],\n",
       " ['168', 'Bronx', 'Mott Haven/Port Morris', 'Boro Zone'],\n",
       " ['170', 'Manhattan', 'Murray Hill', 'Yellow Zone'],\n",
       " ['172', 'Staten Island', 'New Dorp/Midland Beach', 'Boro Zone'],\n",
       " ['174', 'Bronx', 'Norwood', 'Boro Zone'],\n",
       " ['176', 'Staten Island', 'Oakwood', 'Boro Zone'],\n",
       " ['178', 'Brooklyn', 'Ocean Parkway South', 'Boro Zone'],\n",
       " ['180', 'Queens', 'Ozone Park', 'Boro Zone'],\n",
       " ['182', 'Bronx', 'Parkchester', 'Boro Zone'],\n",
       " ['184', 'Bronx', 'Pelham Bay Park', 'Boro Zone'],\n",
       " ['186', 'Manhattan', 'Penn Station/Madison Sq West', 'Yellow Zone'],\n",
       " ['188', 'Brooklyn', 'Prospect-Lefferts Gardens', 'Boro Zone'],\n",
       " ['190', 'Brooklyn', 'Prospect Park', 'Boro Zone'],\n",
       " ['192', 'Queens', 'Queensboro Hill', 'Boro Zone'],\n",
       " ['194', 'Manhattan', 'Randalls Island', 'Yellow Zone'],\n",
       " ['196', 'Queens', 'Rego Park', 'Boro Zone'],\n",
       " ['198', 'Queens', 'Ridgewood', 'Boro Zone'],\n",
       " ['200', 'Bronx', 'Riverdale/North Riverdale/Fieldston', 'Boro Zone'],\n",
       " ['202', 'Manhattan', 'Roosevelt Island', 'Boro Zone'],\n",
       " ['204', 'Staten Island', 'Rossville/Woodrow', 'Boro Zone'],\n",
       " ['206', 'Staten Island', 'Saint George/New Brighton', 'Boro Zone'],\n",
       " ['208', 'Bronx', 'Schuylerville/Edgewater Park', 'Boro Zone'],\n",
       " ['210', 'Brooklyn', 'Sheepshead Bay', 'Boro Zone'],\n",
       " ['212', 'Bronx', 'Soundview/Bruckner', 'Boro Zone'],\n",
       " ['214', 'Staten Island', 'South Beach/Dongan Hills', 'Boro Zone'],\n",
       " ['216', 'Queens', 'South Ozone Park', 'Boro Zone'],\n",
       " ['218', 'Queens', 'Springfield Gardens North', 'Boro Zone'],\n",
       " ['220', 'Bronx', 'Spuyten Duyvil/Kingsbridge', 'Boro Zone'],\n",
       " ['222', 'Brooklyn', 'Starrett City', 'Boro Zone'],\n",
       " ['224', 'Manhattan', 'Stuy Town/Peter Cooper Village', 'Yellow Zone'],\n",
       " ['226', 'Queens', 'Sunnyside', 'Boro Zone'],\n",
       " ['228', 'Brooklyn', 'Sunset Park West', 'Boro Zone'],\n",
       " ['230', 'Manhattan', 'Times Sq/Theatre District', 'Yellow Zone'],\n",
       " ['232', 'Manhattan', 'Two Bridges/Seward Park', 'Yellow Zone'],\n",
       " ['234', 'Manhattan', 'Union Sq', 'Yellow Zone'],\n",
       " ['236', 'Manhattan', 'Upper East Side North', 'Yellow Zone'],\n",
       " ['238', 'Manhattan', 'Upper West Side North', 'Yellow Zone'],\n",
       " ['240', 'Bronx', 'Van Cortlandt Park', 'Boro Zone'],\n",
       " ['242', 'Bronx', 'Van Nest/Morris Park', 'Boro Zone'],\n",
       " ['244', 'Manhattan', 'Washington Heights South', 'Boro Zone'],\n",
       " ['246', 'Manhattan', 'West Chelsea/Hudson Yards', 'Yellow Zone'],\n",
       " ['248', 'Bronx', 'West Farms/Bronx River', 'Boro Zone'],\n",
       " ['250', 'Bronx', 'Westchester Village/Unionport', 'Boro Zone'],\n",
       " ['252', 'Queens', 'Whitestone', 'Boro Zone'],\n",
       " ['254', 'Bronx', 'Williamsbridge/Olinville', 'Boro Zone'],\n",
       " ['256', 'Brooklyn', 'Williamsburg (South Side)', 'Boro Zone'],\n",
       " ['258', 'Queens', 'Woodhaven', 'Boro Zone'],\n",
       " ['260', 'Queens', 'Woodside', 'Boro Zone'],\n",
       " ['262', 'Manhattan', 'Yorkville East', 'Yellow Zone'],\n",
       " ['264', 'Unknown', 'NV', 'N/A']]"
      ]
     },
     "execution_count": 19,
     "metadata": {},
     "output_type": "execute_result"
    }
   ],
   "source": [
    "evenLocationRDD.collect()"
   ]
  },
  {
   "cell_type": "code",
   "execution_count": 20,
   "id": "45e2383c",
   "metadata": {},
   "outputs": [
    {
     "data": {
      "text/plain": [
       "[(2, 1.4142135623730951),\n",
       " (3, 1.7320508075688772),\n",
       " (4, 2.0),\n",
       " (5, 2.23606797749979),\n",
       " (6, 2.449489742783178)]"
      ]
     },
     "execution_count": 20,
     "metadata": {},
     "output_type": "execute_result"
    }
   ],
   "source": [
    "# Pair RDD\n",
    "import math\n",
    "numbersRDD = sc.parallelize([2,3,4,5,6])\n",
    "##Create Pair RDD\n",
    "numberWithSquareRootRDD = (\n",
    "numbersRDD.map(\n",
    "lambda num:(num, math.sqrt(num)))\n",
    ")\n",
    "numberWithSquareRootRDD.collect()"
   ]
  },
  {
   "cell_type": "code",
   "execution_count": 21,
   "id": "1a565d39",
   "metadata": {},
   "outputs": [
    {
     "data": {
      "text/plain": [
       "[('EWR', 1),\n",
       " ('Queens', 1),\n",
       " ('Bronx', 1),\n",
       " ('Manhattan', 1),\n",
       " ('Staten Island', 1),\n",
       " ('Staten Island', 1),\n",
       " ('Queens', 1),\n",
       " ('Queens', 1),\n",
       " ('Queens', 1),\n",
       " ('Queens', 1)]"
      ]
     },
     "execution_count": 21,
     "metadata": {},
     "output_type": "execute_result"
    }
   ],
   "source": [
    "# Create Pair RDD (locationId as key, Value as 1)\n",
    "\n",
    "taxoZonesPairRdd = (\n",
    "taxiZoneWithColsRDD.map(lambda zoneRow: (zoneRow[1] # Key - Borough\n",
    "                                         ,1         # Value - 1\n",
    "                                        ))\n",
    ")\n",
    "taxoZonesPairRdd.take(10)"
   ]
  },
  {
   "cell_type": "code",
   "execution_count": 22,
   "id": "c812fbb9",
   "metadata": {},
   "outputs": [
    {
     "name": "stderr",
     "output_type": "stream",
     "text": [
      "                                                                                \r"
     ]
    },
    {
     "data": {
      "text/plain": [
       "[('Bronx', 43),\n",
       " ('Staten Island', 20),\n",
       " ('EWR', 1),\n",
       " ('Manhattan', 69),\n",
       " ('Brooklyn', 61),\n",
       " ('Unknown', 2),\n",
       " ('Queens', 69)]"
      ]
     },
     "execution_count": 22,
     "metadata": {},
     "output_type": "execute_result"
    }
   ],
   "source": [
    "# Calculate count of records for each Borough\n",
    "boroughCountRDD = (\n",
    "     taxoZonesPairRdd.reduceByKey(lambda value1, value2: value1 + value2)\n",
    " )\n",
    "boroughCountRDD.collect()"
   ]
  },
  {
   "cell_type": "code",
   "execution_count": null,
   "id": "bbad34ba",
   "metadata": {},
   "outputs": [],
   "source": []
  },
  {
   "cell_type": "code",
   "execution_count": null,
   "id": "c6d53d24",
   "metadata": {},
   "outputs": [],
   "source": []
  },
  {
   "cell_type": "code",
   "execution_count": null,
   "id": "c1cdf359",
   "metadata": {},
   "outputs": [],
   "source": []
  },
  {
   "cell_type": "code",
   "execution_count": null,
   "id": "1992deef",
   "metadata": {},
   "outputs": [],
   "source": []
  },
  {
   "cell_type": "code",
   "execution_count": null,
   "id": "29e497a5",
   "metadata": {},
   "outputs": [],
   "source": []
  },
  {
   "cell_type": "code",
   "execution_count": null,
   "id": "dc79fa31",
   "metadata": {},
   "outputs": [],
   "source": []
  },
  {
   "cell_type": "code",
   "execution_count": null,
   "id": "5287ea1b",
   "metadata": {},
   "outputs": [],
   "source": []
  },
  {
   "cell_type": "code",
   "execution_count": null,
   "id": "ca904af1",
   "metadata": {},
   "outputs": [],
   "source": []
  },
  {
   "cell_type": "code",
   "execution_count": null,
   "id": "325a3a22",
   "metadata": {},
   "outputs": [],
   "source": []
  }
 ],
 "metadata": {
  "kernelspec": {
   "display_name": "Python 3 (ipykernel)",
   "language": "python",
   "name": "python3"
  },
  "language_info": {
   "codemirror_mode": {
    "name": "ipython",
    "version": 3
   },
   "file_extension": ".py",
   "mimetype": "text/x-python",
   "name": "python",
   "nbconvert_exporter": "python",
   "pygments_lexer": "ipython3",
   "version": "3.10.12"
  }
 },
 "nbformat": 4,
 "nbformat_minor": 5
}
